{
  "nbformat": 4,
  "nbformat_minor": 0,
  "metadata": {
    "colab": {
      "provenance": [],
      "gpuType": "T4",
      "authorship_tag": "ABX9TyO/M3/ymvPdG1wEF2rqBVot",
      "include_colab_link": true
    },
    "kernelspec": {
      "name": "python3",
      "display_name": "Python 3"
    },
    "language_info": {
      "name": "python"
    },
    "accelerator": "GPU"
  },
  "cells": [
    {
      "cell_type": "markdown",
      "metadata": {
        "id": "view-in-github",
        "colab_type": "text"
      },
      "source": [
        "<a href=\"https://colab.research.google.com/github/wantepim84/NetworkX/blob/main/NetworkXCh5.ipynb\" target=\"_parent\"><img src=\"https://colab.research.google.com/assets/colab-badge.svg\" alt=\"Open In Colab\"/></a>"
      ]
    },
    {
      "cell_type": "code",
      "execution_count": null,
      "metadata": {
        "id": "uYwtM1QGsRuc"
      },
      "outputs": [],
      "source": [
        "import networkx as nx\n",
        "import matplotlib as plt"
      ]
    },
    {
      "cell_type": "code",
      "source": [
        "# Cpnstruct an affilation network\n",
        "# Create empty affiliation network and list of people\n",
        "B = nx.Graph()\n",
        "people = set()\n",
        "# Load data file into network\n",
        "from pathlib import Path\n",
        "data_dir = Path('/content/50_ALL_2M.csv')\n",
        "with open(data_dir) as f:\n",
        "    # Parse header\n",
        "    events = next(f).strip().split(\",\")[1:]\n",
        "    # Parse rows\n",
        "    for row in f:\n",
        "        parts = row.strip().split(\",\")\n",
        "        person = parts[0]\n",
        "        people.add(person)\n",
        "        for j, value in enumerate(parts[1:]):\n",
        "            if value != \"0\":\n",
        "                B.add_edge(person, events[j], weight=int(value))\n",
        "# Project into person-person co-affilation network\n",
        "from networkx import bipartite\n",
        "G = bipartite.projected_graph(B, people)"
      ],
      "metadata": {
        "id": "1THF32VOyRxq"
      },
      "execution_count": null,
      "outputs": []
    },
    {
      "cell_type": "code",
      "source": [
        "# code calculates the betweenness centrality and shows the 10 individuals with the highest value\n",
        "betweenness = nx.betweenness_centrality(G, normalized=False)\n",
        "sorted(betweenness.items(), key=lambda x:x[1], reverse=True)[0:10]"
      ],
      "metadata": {
        "colab": {
          "base_uri": "https://localhost:8080/"
        },
        "id": "VhbtZjucyfiU",
        "outputId": "b5beb830-5b93-4608-c1eb-68797510224d"
      },
      "execution_count": null,
      "outputs": [
        {
          "output_type": "execute_result",
          "data": {
            "text/plain": [
              "[('Maud Joachim', 52896.53324605238),\n",
              " ('Ada Wright', 26344.263264276862),\n",
              " ('Patricia Woodlock', 24774.923422322423),\n",
              " ('Emily Duval', 19517.906214119466),\n",
              " ('Mary Leigh', 19404.22583377208),\n",
              " ('Mabel Capper', 18221.36281158174),\n",
              " ('Sylvia Pankhurst', 18127.596886368967),\n",
              " ('Elsie Evans', 15674.80629870348),\n",
              " ('Winifred Mayo', 15600.989680321336),\n",
              " ('Vera Wentworth', 13233.504078942542)]"
            ]
          },
          "metadata": {},
          "execution_count": 4
        }
      ]
    },
    {
      "cell_type": "code",
      "source": [
        "# Hubs – eigenvector centrality\n",
        "eigenvector = nx.eigenvector_centrality(G)\n",
        "sorted(eigenvector.items(), key=lambda x:x[1], reverse=True)[0:10]"
      ],
      "metadata": {
        "colab": {
          "base_uri": "https://localhost:8080/"
        },
        "id": "Q8sszmuyJiTZ",
        "outputId": "a0891fc2-05ed-4dce-9f05-62aedf7c5efe"
      },
      "execution_count": null,
      "outputs": [
        {
          "output_type": "execute_result",
          "data": {
            "text/plain": [
              "[('Maud Joachim', 0.11587964174472977),\n",
              " ('Caroline A Downing', 0.11437066100686208),\n",
              " ('Kitty Marion', 0.11344996012448641),\n",
              " ('Mabel Capper', 0.10991776240126291),\n",
              " ('Annie Bell', 0.10834705221110305),\n",
              " ('Grace Chappelow', 0.10818185244249967),\n",
              " ('Winifred Mayo', 0.10803831965810348),\n",
              " ('Ellen Pitfield', 0.10518714292398001),\n",
              " ('Dorothy Agnes Bowker', 0.10493919222545889),\n",
              " ('Mrs Maud Fussell', 0.10490326319130669)]"
            ]
          },
          "metadata": {},
          "execution_count": 5
        }
      ]
    },
    {
      "cell_type": "code",
      "source": [
        "# Closeness centrality\n",
        "closeness = nx.closeness_centrality(G)\n",
        "sorted(closeness.items(), key=lambda x:x[1], reverse=True)[0:10]"
      ],
      "metadata": {
        "colab": {
          "base_uri": "https://localhost:8080/"
        },
        "id": "Z3mvYNJDNjtr",
        "outputId": "05bccce0-aabe-46e9-8313-cc3411f92fe4"
      },
      "execution_count": null,
      "outputs": [
        {
          "output_type": "execute_result",
          "data": {
            "text/plain": [
              "[('Maud Joachim', 0.5357241748956739),\n",
              " ('Caroline A Downing', 0.5009438937877011),\n",
              " ('Winifred Mayo', 0.5009438937877011),\n",
              " ('Mabel Capper', 0.5006919099377073),\n",
              " ('Kitty Marion', 0.49793672684150186),\n",
              " ('Ada Wright', 0.4898501559823633),\n",
              " ('Patricia Woodlock', 0.4886477746471095),\n",
              " ('Vera Wentworth', 0.48769011119851163),\n",
              " ('Evelyn Whurry', 0.4874512815652116),\n",
              " ('Annie Bell', 0.4869743233640714)]"
            ]
          },
          "metadata": {},
          "execution_count": 6
        }
      ]
    },
    {
      "cell_type": "code",
      "source": [
        "#Triangles\n",
        "triangles = nx.triangles(G)\n",
        "sorted(triangles.items(), key=lambda x:x[1], reverse=True)[0:10]"
      ],
      "metadata": {
        "colab": {
          "base_uri": "https://localhost:8080/"
        },
        "id": "OI0eRARzOffq",
        "outputId": "29359c39-8e48-4dac-c123-17e082f5e68e"
      },
      "execution_count": null,
      "outputs": [
        {
          "output_type": "execute_result",
          "data": {
            "text/plain": [
              "[('Maud Joachim', 19687),\n",
              " ('Caroline A Downing', 18201),\n",
              " ('Kitty Marion', 17696),\n",
              " ('Mabel Capper', 16811),\n",
              " ('Winifred Mayo', 16455),\n",
              " ('Annie Bell', 16065),\n",
              " ('Grace Chappelow', 16018),\n",
              " ('Ellen Pitfield', 14910),\n",
              " ('Mrs Maud Fussell', 14841),\n",
              " ('Dorothy Agnes Bowker', 14750)]"
            ]
          },
          "metadata": {},
          "execution_count": 7
        }
      ]
    },
    {
      "cell_type": "code",
      "source": [
        "clustering = nx.clustering(G)\n",
        "[(x, clustering[x]) for x in sorted(people, key=lambda x:eigenvector[x],\n",
        "reverse=True)[0:10]]"
      ],
      "metadata": {
        "colab": {
          "base_uri": "https://localhost:8080/"
        },
        "id": "E2icvelsQ4jQ",
        "outputId": "959f94b4-3c29-4b91-e094-da49a839c46b"
      },
      "execution_count": null,
      "outputs": [
        {
          "output_type": "execute_result",
          "data": {
            "text/plain": [
              "[('Maud Joachim', 0.23595330552759),\n",
              " ('Caroline A Downing', 0.34999903851700864),\n",
              " ('Kitty Marion', 0.3670988486671507),\n",
              " ('Mabel Capper', 0.33992518451117176),\n",
              " ('Annie Bell', 0.4233201581027668),\n",
              " ('Grace Chappelow', 0.43461037551551984),\n",
              " ('Winifred Mayo', 0.3480477177545582),\n",
              " ('Ellen Pitfield', 0.4828993392926545),\n",
              " ('Dorothy Agnes Bowker', 0.5058125578683859),\n",
              " ('Mrs Maud Fussell', 0.5006071645415908)]"
            ]
          },
          "metadata": {},
          "execution_count": 8
        }
      ]
    }
  ]
}