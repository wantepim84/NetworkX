{
  "nbformat": 4,
  "nbformat_minor": 0,
  "metadata": {
    "colab": {
      "provenance": [],
      "authorship_tag": "ABX9TyO1tWoKUs/pOXt2wAsVzpsw",
      "include_colab_link": true
    },
    "kernelspec": {
      "name": "python3",
      "display_name": "Python 3"
    },
    "language_info": {
      "name": "python"
    }
  },
  "cells": [
    {
      "cell_type": "markdown",
      "metadata": {
        "id": "view-in-github",
        "colab_type": "text"
      },
      "source": [
        "<a href=\"https://colab.research.google.com/github/wantepim84/NetworkX/blob/main/Detecting_blocker_nodes.ipynb\" target=\"_parent\"><img src=\"https://colab.research.google.com/assets/colab-badge.svg\" alt=\"Open In Colab\"/></a>"
      ]
    },
    {
      "cell_type": "code",
      "source": [
        "# Part 1 Generating Clustered Independant Casacde Model\n",
        "# Install libraries\n",
        "pip install networkx\n",
        "pip install pandas\n",
        "pip install matplotlib\n",
        "pip install python-louvain==0.15\n",
        "pip install tqdm\n",
        "\n",
        "# Import libraries\n",
        "import networkx as nx\n",
        "import pandas as pd\n",
        "import matplotlib.pyplot as plt\n",
        "import random\n",
        "import community\n",
        "from tqdm import tqdm\n",
        "\n",
        "# Sample data\n",
        "data = pd.read_csv('dataset')\n",
        "\n",
        "# Create a directed graph\n",
        "G = nx.Graph()\n",
        "\n",
        "# Add edges based on the 'Group No' and 'Individual ID' columns\n",
        "for _, row in data.iterrows():\n",
        "    group_No = row['Group No']\n",
        "    individual_id = row['Individual ID']\n",
        "\n",
        "    # Add edges from the current individual to all others in the same group\n",
        "    group_members = data[data['Group No'] == group_No]['Individual ID'].tolist()\n",
        "    edges = [(individual_id, neighbor) for neighbor in group_members if neighbor != individual_id]\n",
        "    G.add_edges_from(edges)\n",
        "\n",
        "# Louvain community detection (clustering)\n",
        "partition = community.best_partition(G)\n",
        "\n",
        "# Visualize the original graph with Louvain community colors\n",
        "pos = nx.kamada_kawai_layout(G) # I used Kamada Kawai layout to ensure nodes in the same cluster are joined by the same edges. Also, this layout is aesthetically pleasing.\n",
        "colors = [partition[node] for node in G.nodes()]\n",
        "nx.draw(G, pos, with_labels=True, node_size=700, node_color=colors, cmap=plt.cm.Oranges, font_size=8, font_color='black', font_weight='bold') #Alter arguements to your satifaction)\n",
        "plt.title('Clustering Independent Cascade Model') # Input title of your choice\n",
        "plt.show()"
      ],
      "metadata": {
        "id": "W2LZ-Ni7JVu-"
      },
      "execution_count": null,
      "outputs": []
    },
    {
      "cell_type": "code",
      "source": [
        "# Part 2: Generating graph of the dataset\n",
        "# Step 1: Generate a graph from a dataset\n",
        "df = pd.read_csv('dataset')\n",
        "\n",
        "# Add a new column 'Area' based on 'Day' and 'Group No'\n",
        "df['Area'] = df['Day'].astype(str) + '-' + df['Group No'].astype(str)\n",
        "\n",
        "# Create a graph from the updated DataFrame\n",
        "G = nx.from_pandas_edgelist(df, 'Group No', 'Individual ID')\n",
        "\n",
        "# Step 2: Find the top 10 Nodes with the highest centrality\n",
        "centrality_measures = {\n",
        "    'Degree Centrality': nx.degree_centrality,# Degree centrality measures the number of edges connected to a node. Nodes with higher degree centrality have more connections and are often considered more central to the network.\n",
        "    'Closeness Centrality': nx.closeness_centrality, #  Closeness Centrality measures how close a node is to all other nodes in a network.\n",
        "    'Eigenvector Centrality': nx.eigenvector_centrality, # Eigenvector Centrality measures a node's influence in a network (how many edges the node is connected to other important nodes).  Nodes with high eigenvector centrality are well-connected to other influential nodes, making them important in terms of overall network influence.\n",
        "    'Betweenness Centrality': nx.betweenness_centrality,  #  Betweenness Centrality quantifies the influence of a node in facilitating the spread in a network\n",
        "    'Random': lambda G: {node: random.random() for node in G.nodes()},  # Random centrality\n",
        "}\n",
        "\n",
        "# Step 3 and 4: Remove top Nodes in descending order and calculate density for each centrality measure\n",
        "# Density measures the overall connectivity of a network. This measure can be used to quantify the effect of removing particular nodes\n",
        "results = {measure_name: {'Top Nodes': [], 'Density': []} for measure_name in centrality_measures}\n",
        "\n",
        "for measure_name, measure_function in centrality_measures.items():\n",
        "    centrality = measure_function(G)\n",
        "    top_nodes = sorted(G.nodes(), key=lambda node: centrality[node], reverse=True)[:10]\n",
        "    results[measure_name]['Top Nodes'] = top_nodes\n",
        "\n",
        "    densities = []\n",
        "    for node in tqdm(top_nodes, desc=f'Calculating Density for {measure_name}'):\n",
        "        G_copy = G.copy()\n",
        "        G_copy.remove_node(node)\n",
        "        density = nx.density(G_copy)\n",
        "        densities.append(density)\n",
        "\n",
        "    results[measure_name]['Density'] = densities\n",
        "\n",
        "# Step 5: Generate a graph showing the densities for each centrality measure (sloping downwards)\n",
        "plt.figure(figsize=(12, 8))\n",
        "\n",
        "for measure_name, data in results.items():\n",
        "    plt.plot(range(1, 11), data['Density'][::-1], marker='o', linestyle='-', label=measure_name)\n",
        "\n",
        "plt.xlabel('No of Nodes Removed')\n",
        "plt.ylabel('Spread size proportion (Density)')\n",
        "plt.title('Clustering Independant Casacde mode()') # Input title of your choice\n",
        "plt.xticks(range(1, 11))\n",
        "plt.legend()\n",
        "plt.grid(True)\n",
        "plt.show()\n"
      ],
      "metadata": {
        "id": "ddzSxYTUJ-IW"
      },
      "execution_count": null,
      "outputs": []
    }
  ]
}